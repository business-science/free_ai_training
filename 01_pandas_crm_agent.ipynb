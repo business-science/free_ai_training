{
 "cells": [
  {
   "cell_type": "markdown",
   "metadata": {},
   "source": [
    "# BUSINESS SCIENCE UNIVERSITY\n",
    "# Free AI Training\n",
    "\n",
    "**This AI example is designed to get you started with learning AI for data science today!**\n",
    "\n",
    "You will:\n",
    "\n",
    "1. Learn from applying AI to a CRM Sales Pipeline Won/Lost Dataset \n",
    "2. Create a Pandas Data Frame Agent to interact with the dataset\n",
    "3. Run a quick example to get you started with AI today!\n",
    "\n",
    "**AI COURSE LAUNCH ON THURSDAY, MAY 30TH AT 2PM EST:**\n",
    "\n",
    "👉 REGISTER HERE: https://learn.business-science.io/python-generative-ai-apps"
   ]
  },
  {
   "cell_type": "markdown",
   "metadata": {},
   "source": [
    "## GOALS:\n",
    "\n",
    "1. SHOW HOW AI CAN BE USED FOR DATA SCIENCE\n",
    "2. SHOW SOME OF THE LOW-LEVEL DATA SCIENCE TASKS THAT CAN BE AUTOMATED WITH AI"
   ]
  },
  {
   "cell_type": "markdown",
   "metadata": {},
   "source": [
    "## Libraries and AI Setup"
   ]
  },
  {
   "cell_type": "code",
   "execution_count": null,
   "id": "6e1eff59-415a-4930-8349-c40d0b007fcc",
   "metadata": {},
   "outputs": [],
   "source": [
    "from langchain.agents.agent_types import AgentType\n",
    "from langchain_experimental.agents.agent_toolkits import create_pandas_dataframe_agent\n",
    "from langchain_openai import ChatOpenAI\n",
    "\n",
    "import pandas as pd\n",
    "import yaml\n",
    "\n",
    "# OPENAI SETUP:\n",
    "OPENAI_API_KEY = yaml.safe_load(open('../credentials.yml'))['openai']\n",
    "\n",
    "# PANDAS DATA FRAME:\n",
    "\n",
    "df = pd.read_csv(\"data/sales_pipeline.csv\")\n",
    "df\n",
    "\n",
    "# 1.0 CREATE A PANDAS AI AGENT:\n",
    "\n",
    "model = ChatOpenAI(\n",
    "    model=\"gpt-3.5-turbo\",\n",
    "    temperature=0,  \n",
    "    api_key=OPENAI_API_KEY\n",
    ")\n",
    "\n",
    "pandas_agent = create_pandas_dataframe_agent(\n",
    "    model,\n",
    "    df,\n",
    "    verbose=True,\n",
    "    agent_type=AgentType.OPENAI_FUNCTIONS,\n",
    ")"
   ]
  },
  {
   "cell_type": "markdown",
   "metadata": {},
   "source": [
    "## Explore the Pandas Agent"
   ]
  },
  {
   "cell_type": "code",
   "execution_count": null,
   "id": "c579aaf5-eea1-491d-85c7-3aa9e6779b3b",
   "metadata": {},
   "outputs": [
    {
     "data": {
      "text/plain": [
       "AgentExecutor(verbose=True, agent=RunnableAgent(runnable=RunnableAssign(mapper={\n",
       "  agent_scratchpad: RunnableLambda(lambda x: format_to_openai_function_messages(x['intermediate_steps']))\n",
       "})\n",
       "| ChatPromptTemplate(input_variables=['agent_scratchpad', 'input'], input_types={'agent_scratchpad': typing.List[typing.Union[langchain_core.messages.ai.AIMessage, langchain_core.messages.human.HumanMessage, langchain_core.messages.chat.ChatMessage, langchain_core.messages.system.SystemMessage, langchain_core.messages.function.FunctionMessage, langchain_core.messages.tool.ToolMessage]]}, messages=[SystemMessage(content='\\nYou are working with a pandas dataframe in Python. The name of the dataframe is `df`.\\nThis is the result of `print(df.head())`:\\n|    | opportunity_id   | sales_agent     | product        | account   | deal_stage   | engage_date   | close_date   |   close_value |\\n|---:|:-----------------|:----------------|:---------------|:----------|:-------------|:--------------|:-------------|--------------:|\\n|  0 | 1C1I7A6R         | Moses Frase     | GTX Plus Basic | Cancity   | Won          | 2016-10-20    | 2017-03-01   |          1054 |\\n|  1 | Z063OYW0         | Darcel Schlecht | GTXPro         | Isdom     | Won          | 2016-10-25    | 2017-03-11   |          4514 |\\n|  2 | EC4QE1BX         | Darcel Schlecht | MG Special     | Cancity   | Won          | 2016-10-25    | 2017-03-07   |            50 |\\n|  3 | MV1LWRNH         | Moses Frase     | GTX Basic      | Codehow   | Won          | 2016-10-25    | 2017-03-09   |           588 |\\n|  4 | PE84CX4O         | Zane Levy       | GTX Basic      | Hatfan    | Won          | 2016-10-25    | 2017-03-02   |           517 |'), HumanMessagePromptTemplate(prompt=PromptTemplate(input_variables=['input'], template='{input}')), MessagesPlaceholder(variable_name='agent_scratchpad')])\n",
       "| RunnableBinding(bound=ChatOpenAI(client=<openai.resources.chat.completions.Completions object at 0x7fdd13460640>, async_client=<openai.resources.chat.completions.AsyncCompletions object at 0x7fdd13461870>, temperature=0.0, openai_api_key=SecretStr('**********'), openai_proxy=''), kwargs={'functions': [{'name': 'python_repl_ast', 'description': 'A Python shell. Use this to execute python commands. Input should be a valid python command. When using this tool, sometimes output is abbreviated - make sure it does not look abbreviated before using it in your answer.', 'parameters': {'type': 'object', 'properties': {'query': {'description': 'code snippet to run', 'type': 'string'}}, 'required': ['query']}}]})\n",
       "| OpenAIFunctionsAgentOutputParser(), input_keys_arg=['input'], return_keys_arg=['output'], stream_runnable=True), tools=[PythonAstREPLTool(locals={'df':      opportunity_id        sales_agent         product  account   deal_stage  \\\n",
       "0          1C1I7A6R        Moses Frase  GTX Plus Basic  Cancity          Won   \n",
       "1          Z063OYW0    Darcel Schlecht          GTXPro    Isdom          Won   \n",
       "2          EC4QE1BX    Darcel Schlecht      MG Special  Cancity          Won   \n",
       "3          MV1LWRNH        Moses Frase       GTX Basic  Codehow          Won   \n",
       "4          PE84CX4O          Zane Levy       GTX Basic   Hatfan          Won   \n",
       "...             ...                ...             ...      ...          ...   \n",
       "8795       9MIWFW5J  Versie Hillebrand     MG Advanced      NaN  Prospecting   \n",
       "8796       6SLKZ8FI  Versie Hillebrand     MG Advanced      NaN  Prospecting   \n",
       "8797       LIB4KUZJ  Versie Hillebrand     MG Advanced      NaN  Prospecting   \n",
       "8798       18IUIUK0  Versie Hillebrand     MG Advanced      NaN  Prospecting   \n",
       "8799       8I5ONXJX  Versie Hillebrand     MG Advanced      NaN  Prospecting   \n",
       "\n",
       "     engage_date  close_date  close_value  \n",
       "0     2016-10-20  2017-03-01       1054.0  \n",
       "1     2016-10-25  2017-03-11       4514.0  \n",
       "2     2016-10-25  2017-03-07         50.0  \n",
       "3     2016-10-25  2017-03-09        588.0  \n",
       "4     2016-10-25  2017-03-02        517.0  \n",
       "...          ...         ...          ...  \n",
       "8795         NaN         NaN          NaN  \n",
       "8796         NaN         NaN          NaN  \n",
       "8797         NaN         NaN          NaN  \n",
       "8798         NaN         NaN          NaN  \n",
       "8799         NaN         NaN          NaN  \n",
       "\n",
       "[8800 rows x 8 columns]})])"
      ]
     },
     "execution_count": 8,
     "metadata": {},
     "output_type": "execute_result"
    }
   ],
   "source": [
    "pandas_agent"
   ]
  },
  {
   "cell_type": "markdown",
   "metadata": {},
   "source": [
    "## Answer Questions from Natural Language"
   ]
  },
  {
   "cell_type": "markdown",
   "metadata": {},
   "source": [
    "### Q1. What are the column names in the data?"
   ]
  },
  {
   "cell_type": "code",
   "execution_count": null,
   "id": "58393c9d-a5b2-439d-8a60-86bc98f7de07",
   "metadata": {},
   "outputs": [
    {
     "name": "stdout",
     "output_type": "stream",
     "text": [
      "\n",
      "\n",
      "\u001b[1m> Entering new AgentExecutor chain...\u001b[0m\n",
      "\u001b[32;1m\u001b[1;3m\n",
      "Invoking: `python_repl_ast` with `{'query': 'df.columns'}`\n",
      "\n",
      "\n",
      "\u001b[0m\u001b[36;1m\u001b[1;3mIndex(['opportunity_id', 'sales_agent', 'product', 'account', 'deal_stage',\n",
      "       'engage_date', 'close_date', 'close_value'],\n",
      "      dtype='object')\u001b[0m\u001b[32;1m\u001b[1;3mThe column names in the data are: 'opportunity_id', 'sales_agent', 'product', 'account', 'deal_stage', 'engage_date', 'close_date', and 'close_value'.\u001b[0m\n",
      "\n",
      "\u001b[1m> Finished chain.\u001b[0m\n"
     ]
    },
    {
     "data": {
      "text/plain": [
       "{'input': 'What are the column names in the data?',\n",
       " 'output': \"The column names in the data are: 'opportunity_id', 'sales_agent', 'product', 'account', 'deal_stage', 'engage_date', 'close_date', and 'close_value'.\"}"
      ]
     },
     "execution_count": 9,
     "metadata": {},
     "output_type": "execute_result"
    }
   ],
   "source": [
    "pandas_agent.invoke(\"What are the column names in the data?\")"
   ]
  },
  {
   "cell_type": "markdown",
   "metadata": {},
   "source": [
    "### Q2. How many deals were won?"
   ]
  },
  {
   "cell_type": "code",
   "execution_count": null,
   "id": "9afbb52a-764c-4ff6-ab37-95ba0f0bacef",
   "metadata": {},
   "outputs": [
    {
     "name": "stdout",
     "output_type": "stream",
     "text": [
      "\n",
      "\n",
      "\u001b[1m> Entering new AgentExecutor chain...\u001b[0m\n",
      "\u001b[32;1m\u001b[1;3m\n",
      "Invoking: `python_repl_ast` with `{'query': \"df[df['deal_stage'] == 'Won'].shape[0]\"}`\n",
      "\n",
      "\n",
      "\u001b[0m\u001b[36;1m\u001b[1;3m4238\u001b[0m\u001b[32;1m\u001b[1;3mThere were 4238 deals that were won.\u001b[0m\n",
      "\n",
      "\u001b[1m> Finished chain.\u001b[0m\n"
     ]
    },
    {
     "data": {
      "text/plain": [
       "{'input': 'How many deals were won?',\n",
       " 'output': 'There were 4238 deals that were won.'}"
      ]
     },
     "execution_count": 10,
     "metadata": {},
     "output_type": "execute_result"
    }
   ],
   "source": [
    "pandas_agent.invoke(\"How many deals were won?\")"
   ]
  },
  {
   "cell_type": "markdown",
   "metadata": {},
   "source": [
    "### Q3. What is the average value for deals that were won?"
   ]
  },
  {
   "cell_type": "code",
   "execution_count": null,
   "id": "83e5895a-8f3a-49d0-965b-013baadbf72c",
   "metadata": {},
   "outputs": [
    {
     "name": "stdout",
     "output_type": "stream",
     "text": [
      "\n",
      "\n",
      "\u001b[1m> Entering new AgentExecutor chain...\u001b[0m\n",
      "\u001b[32;1m\u001b[1;3m\n",
      "Invoking: `python_repl_ast` with `{'query': \"df[df['deal_stage'] == 'Won']['close_value'].mean()\"}`\n",
      "\n",
      "\n",
      "\u001b[0m\u001b[36;1m\u001b[1;3m2360.9093912222747\u001b[0m\u001b[32;1m\u001b[1;3mThe average value for deals that were won is $2360.91.\u001b[0m\n",
      "\n",
      "\u001b[1m> Finished chain.\u001b[0m\n"
     ]
    },
    {
     "data": {
      "text/plain": [
       "{'input': 'What is the average value for deals that were won?',\n",
       " 'output': 'The average value for deals that were won is $2360.91.'}"
      ]
     },
     "execution_count": 11,
     "metadata": {},
     "output_type": "execute_result"
    }
   ],
   "source": [
    "pandas_agent.invoke(\"What is the average value for deals that were won?\")"
   ]
  }
 ],
 "metadata": {
  "kernelspec": {
   "display_name": "ds4b_301p_dev",
   "language": "python",
   "name": "python3"
  },
  "language_info": {
   "codemirror_mode": {
    "name": "ipython",
    "version": 3
   },
   "file_extension": ".py",
   "mimetype": "text/x-python",
   "name": "python",
   "nbconvert_exporter": "python",
   "pygments_lexer": "ipython3",
   "version": "3.10.13"
  }
 },
 "nbformat": 4,
 "nbformat_minor": 2
}
